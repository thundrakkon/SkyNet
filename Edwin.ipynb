{
 "cells": [
  {
   "cell_type": "code",
   "execution_count": 1,
   "metadata": {},
   "outputs": [],
   "source": [
    "import matplotlib.pyplot as plt\n",
    "import pandas as pd\n",
    "import numpy as np"
   ]
  },
  {
   "cell_type": "code",
   "execution_count": 87,
   "metadata": {},
   "outputs": [],
   "source": [
    "#import the csv's\n",
    "\n",
    "#2019 Data\n",
    "speaker_file = \"Resources/smart_speaker_consumer_adoption_report_2019.csv\"\n",
    "\n",
    "# 2018 shop data\n",
    "voice_file = \"Resources/voice-shopping-consumer-adoption-report-june-2018.csv\"\n",
    "\n",
    "speaker_df = pd.read_csv(speaker_file)\n",
    "voice_df = pd.read_csv(voice_file)"
   ]
  },
  {
   "cell_type": "code",
   "execution_count": 88,
   "metadata": {},
   "outputs": [
    {
     "data": {
      "text/html": [
       "<div>\n",
       "<style scoped>\n",
       "    .dataframe tbody tr th:only-of-type {\n",
       "        vertical-align: middle;\n",
       "    }\n",
       "\n",
       "    .dataframe tbody tr th {\n",
       "        vertical-align: top;\n",
       "    }\n",
       "\n",
       "    .dataframe thead th {\n",
       "        text-align: right;\n",
       "    }\n",
       "</style>\n",
       "<table border=\"1\" class=\"dataframe\">\n",
       "  <thead>\n",
       "    <tr style=\"text-align: right;\">\n",
       "      <th></th>\n",
       "      <th>shopping_method</th>\n",
       "      <th>own_smartphone</th>\n",
       "      <th>have_tried_a_voice_assistant</th>\n",
       "      <th>own_a_smart_speaker</th>\n",
       "      <th>own_feature_phone</th>\n",
       "      <th>no_mobile_device</th>\n",
       "      <th>shoppers_use_voice</th>\n",
       "      <th>online_apparel</th>\n",
       "      <th>online_everyday_household_items</th>\n",
       "      <th>online_entertainment_music_movies</th>\n",
       "      <th>...</th>\n",
       "      <th>voice_entertainment_music_movies</th>\n",
       "      <th>voice_consumer_electronics</th>\n",
       "      <th>voice_travel</th>\n",
       "      <th>voice_games</th>\n",
       "      <th>voice_groceries</th>\n",
       "      <th>voice_appliances</th>\n",
       "      <th>voice_furniture</th>\n",
       "      <th>voice_prepared_meal_or_drink</th>\n",
       "      <th>voice_none_of_the_above</th>\n",
       "      <th>voice_local_services</th>\n",
       "    </tr>\n",
       "  </thead>\n",
       "  <tbody>\n",
       "    <tr>\n",
       "      <th>0</th>\n",
       "      <td>physical</td>\n",
       "      <td>no</td>\n",
       "      <td>no</td>\n",
       "      <td>no</td>\n",
       "      <td>no</td>\n",
       "      <td>no</td>\n",
       "      <td>no</td>\n",
       "      <td>yes</td>\n",
       "      <td>yes</td>\n",
       "      <td>no</td>\n",
       "      <td>...</td>\n",
       "      <td>no</td>\n",
       "      <td>yes</td>\n",
       "      <td>no</td>\n",
       "      <td>yes</td>\n",
       "      <td>no</td>\n",
       "      <td>no</td>\n",
       "      <td>no</td>\n",
       "      <td>no</td>\n",
       "      <td>no</td>\n",
       "      <td>no</td>\n",
       "    </tr>\n",
       "    <tr>\n",
       "      <th>1</th>\n",
       "      <td>physical</td>\n",
       "      <td>yes</td>\n",
       "      <td>no</td>\n",
       "      <td>no</td>\n",
       "      <td>no</td>\n",
       "      <td>no</td>\n",
       "      <td>yes</td>\n",
       "      <td>no</td>\n",
       "      <td>no</td>\n",
       "      <td>yes</td>\n",
       "      <td>...</td>\n",
       "      <td>no</td>\n",
       "      <td>yes</td>\n",
       "      <td>no</td>\n",
       "      <td>no</td>\n",
       "      <td>no</td>\n",
       "      <td>no</td>\n",
       "      <td>no</td>\n",
       "      <td>no</td>\n",
       "      <td>yes</td>\n",
       "      <td>no</td>\n",
       "    </tr>\n",
       "    <tr>\n",
       "      <th>2</th>\n",
       "      <td>physical</td>\n",
       "      <td>yes</td>\n",
       "      <td>yes</td>\n",
       "      <td>no</td>\n",
       "      <td>no</td>\n",
       "      <td>yes</td>\n",
       "      <td>no</td>\n",
       "      <td>yes</td>\n",
       "      <td>yes</td>\n",
       "      <td>no</td>\n",
       "      <td>...</td>\n",
       "      <td>no</td>\n",
       "      <td>no</td>\n",
       "      <td>no</td>\n",
       "      <td>no</td>\n",
       "      <td>no</td>\n",
       "      <td>no</td>\n",
       "      <td>no</td>\n",
       "      <td>no</td>\n",
       "      <td>no</td>\n",
       "      <td>no</td>\n",
       "    </tr>\n",
       "    <tr>\n",
       "      <th>3</th>\n",
       "      <td>website</td>\n",
       "      <td>yes</td>\n",
       "      <td>yes</td>\n",
       "      <td>no</td>\n",
       "      <td>no</td>\n",
       "      <td>no</td>\n",
       "      <td>no</td>\n",
       "      <td>yes</td>\n",
       "      <td>yes</td>\n",
       "      <td>no</td>\n",
       "      <td>...</td>\n",
       "      <td>yes</td>\n",
       "      <td>no</td>\n",
       "      <td>no</td>\n",
       "      <td>no</td>\n",
       "      <td>no</td>\n",
       "      <td>yes</td>\n",
       "      <td>no</td>\n",
       "      <td>no</td>\n",
       "      <td>no</td>\n",
       "      <td>no</td>\n",
       "    </tr>\n",
       "    <tr>\n",
       "      <th>4</th>\n",
       "      <td>physical</td>\n",
       "      <td>yes</td>\n",
       "      <td>yes</td>\n",
       "      <td>no</td>\n",
       "      <td>no</td>\n",
       "      <td>no</td>\n",
       "      <td>no</td>\n",
       "      <td>yes</td>\n",
       "      <td>yes</td>\n",
       "      <td>no</td>\n",
       "      <td>...</td>\n",
       "      <td>no</td>\n",
       "      <td>no</td>\n",
       "      <td>no</td>\n",
       "      <td>no</td>\n",
       "      <td>no</td>\n",
       "      <td>no</td>\n",
       "      <td>no</td>\n",
       "      <td>yes</td>\n",
       "      <td>no</td>\n",
       "      <td>no</td>\n",
       "    </tr>\n",
       "  </tbody>\n",
       "</table>\n",
       "<p>5 rows × 31 columns</p>\n",
       "</div>"
      ],
      "text/plain": [
       "  shopping_method own_smartphone have_tried_a_voice_assistant  \\\n",
       "0        physical             no                           no   \n",
       "1        physical            yes                           no   \n",
       "2        physical            yes                          yes   \n",
       "3         website            yes                          yes   \n",
       "4        physical            yes                          yes   \n",
       "\n",
       "  own_a_smart_speaker own_feature_phone no_mobile_device shoppers_use_voice  \\\n",
       "0                  no                no               no                 no   \n",
       "1                  no                no               no                yes   \n",
       "2                  no                no              yes                 no   \n",
       "3                  no                no               no                 no   \n",
       "4                  no                no               no                 no   \n",
       "\n",
       "  online_apparel online_everyday_household_items  \\\n",
       "0            yes                             yes   \n",
       "1             no                              no   \n",
       "2            yes                             yes   \n",
       "3            yes                             yes   \n",
       "4            yes                             yes   \n",
       "\n",
       "  online_entertainment_music_movies  ... voice_entertainment_music_movies  \\\n",
       "0                                no  ...                               no   \n",
       "1                               yes  ...                               no   \n",
       "2                                no  ...                               no   \n",
       "3                                no  ...                              yes   \n",
       "4                                no  ...                               no   \n",
       "\n",
       "  voice_consumer_electronics voice_travel voice_games voice_groceries  \\\n",
       "0                        yes           no         yes              no   \n",
       "1                        yes           no          no              no   \n",
       "2                         no           no          no              no   \n",
       "3                         no           no          no              no   \n",
       "4                         no           no          no              no   \n",
       "\n",
       "  voice_appliances voice_furniture voice_prepared_meal_or_drink  \\\n",
       "0               no              no                           no   \n",
       "1               no              no                           no   \n",
       "2               no              no                           no   \n",
       "3              yes              no                           no   \n",
       "4               no              no                          yes   \n",
       "\n",
       "  voice_none_of_the_above voice_local_services  \n",
       "0                      no                   no  \n",
       "1                     yes                   no  \n",
       "2                      no                   no  \n",
       "3                      no                   no  \n",
       "4                      no                   no  \n",
       "\n",
       "[5 rows x 31 columns]"
      ]
     },
     "execution_count": 88,
     "metadata": {},
     "output_type": "execute_result"
    }
   ],
   "source": [
    "#what percentage of U.S households own a smart speaker?\n",
    "voice_df.head()"
   ]
  },
  {
   "cell_type": "code",
   "execution_count": 89,
   "metadata": {},
   "outputs": [
    {
     "data": {
      "text/html": [
       "<div>\n",
       "<style scoped>\n",
       "    .dataframe tbody tr th:only-of-type {\n",
       "        vertical-align: middle;\n",
       "    }\n",
       "\n",
       "    .dataframe tbody tr th {\n",
       "        vertical-align: top;\n",
       "    }\n",
       "\n",
       "    .dataframe thead th {\n",
       "        text-align: right;\n",
       "    }\n",
       "</style>\n",
       "<table border=\"1\" class=\"dataframe\">\n",
       "  <thead>\n",
       "    <tr style=\"text-align: right;\">\n",
       "      <th></th>\n",
       "      <th>Owns a Smart Speaker</th>\n",
       "    </tr>\n",
       "  </thead>\n",
       "  <tbody>\n",
       "    <tr>\n",
       "      <th>0</th>\n",
       "      <td>no</td>\n",
       "    </tr>\n",
       "    <tr>\n",
       "      <th>1</th>\n",
       "      <td>no</td>\n",
       "    </tr>\n",
       "    <tr>\n",
       "      <th>2</th>\n",
       "      <td>no</td>\n",
       "    </tr>\n",
       "    <tr>\n",
       "      <th>3</th>\n",
       "      <td>no</td>\n",
       "    </tr>\n",
       "    <tr>\n",
       "      <th>4</th>\n",
       "      <td>no</td>\n",
       "    </tr>\n",
       "  </tbody>\n",
       "</table>\n",
       "</div>"
      ],
      "text/plain": [
       "  Owns a Smart Speaker\n",
       "0                   no\n",
       "1                   no\n",
       "2                   no\n",
       "3                   no\n",
       "4                   no"
      ]
     },
     "execution_count": 89,
     "metadata": {},
     "output_type": "execute_result"
    }
   ],
   "source": [
    "#only looking for the 'own_a_smart_speaker' column\n",
    "#clean it up, give the column a nicer name\n",
    "answers_df = pd.DataFrame({'Owns a Smart Speaker': voice_df['own_a_smart_speaker']})\n",
    "answers_df.head()\n"
   ]
  },
  {
   "cell_type": "code",
   "execution_count": 93,
   "metadata": {},
   "outputs": [
    {
     "data": {
      "text/plain": [
       "1203"
      ]
     },
     "execution_count": 93,
     "metadata": {},
     "output_type": "execute_result"
    }
   ],
   "source": [
    "#set up a groupby\n",
    "total_survey = len(answers_df['Owns a Smart Speaker'])\n",
    "total_survey"
   ]
  },
  {
   "cell_type": "code",
   "execution_count": 96,
   "metadata": {},
   "outputs": [
    {
     "data": {
      "text/plain": [
       "<pandas.core.groupby.generic.DataFrameGroupBy object at 0x11a2dc710>"
      ]
     },
     "execution_count": 96,
     "metadata": {},
     "output_type": "execute_result"
    }
   ],
   "source": [
    "shop_df = answers_df.groupby(['Owns a Smart Speaker'])\n",
    "shop_df"
   ]
  },
  {
   "cell_type": "code",
   "execution_count": 97,
   "metadata": {},
   "outputs": [
    {
     "data": {
      "text/plain": [
       "Owns a Smart Speaker\n",
       "no      no\n",
       "yes    yes\n",
       "Name: Owns a Smart Speaker, dtype: object"
      ]
     },
     "execution_count": 97,
     "metadata": {},
     "output_type": "execute_result"
    }
   ],
   "source": [
    "results = shop_df['Owns a Smart Speaker'].unique().str[0]\n",
    "results"
   ]
  },
  {
   "cell_type": "code",
   "execution_count": 99,
   "metadata": {},
   "outputs": [
    {
     "data": {
      "text/plain": [
       "Owns a Smart Speaker\n",
       "no     943\n",
       "yes    260\n",
       "Name: Owns a Smart Speaker, dtype: int64"
      ]
     },
     "execution_count": 99,
     "metadata": {},
     "output_type": "execute_result"
    }
   ],
   "source": [
    "results_df = shop_df['Owns a Smart Speaker'].count()\n",
    "results_df"
   ]
  },
  {
   "cell_type": "code",
   "execution_count": 102,
   "metadata": {},
   "outputs": [
    {
     "data": {
      "text/html": [
       "<style  type=\"text/css\" >\n",
       "</style><table id=\"T_0dc1805a_8454_11ea_868b_acde48001122\" ><thead>    <tr>        <th class=\"col_heading level0 col0\" >Do You Own a Smart Speaker?</th>        <th class=\"col_heading level0 col1\" >Total</th>    </tr></thead><tbody>\n",
       "                <tr>\n",
       "                                <td id=\"T_0dc1805a_8454_11ea_868b_acde48001122row0_col0\" class=\"data row0 col0\" >no</td>\n",
       "                        <td id=\"T_0dc1805a_8454_11ea_868b_acde48001122row0_col1\" class=\"data row0 col1\" >943</td>\n",
       "            </tr>\n",
       "            <tr>\n",
       "                                <td id=\"T_0dc1805a_8454_11ea_868b_acde48001122row1_col0\" class=\"data row1 col0\" >yes</td>\n",
       "                        <td id=\"T_0dc1805a_8454_11ea_868b_acde48001122row1_col1\" class=\"data row1 col1\" >260</td>\n",
       "            </tr>\n",
       "    </tbody></table>"
      ],
      "text/plain": [
       "<pandas.io.formats.style.Styler at 0x11a269a10>"
      ]
     },
     "execution_count": 102,
     "metadata": {},
     "output_type": "execute_result"
    }
   ],
   "source": [
    "final_answers_df = pd.DataFrame({'Do You Own a Smart Speaker?' : results,\n",
    "                                 'Total': results_df})\n",
    "final_answers_df.style.hide_index()"
   ]
  },
  {
   "cell_type": "raw",
   "metadata": {},
   "source": []
  },
  {
   "cell_type": "code",
   "execution_count": 113,
   "metadata": {},
   "outputs": [
    {
     "data": {
      "image/png": "[encoded data removed]",
      "text/plain": [
       "<Figure size 720x432 with 1 Axes>"
      ]
     },
     "metadata": {},
     "output_type": "display_data"
    }
   ],
   "source": [
    "#pie chart is (unfortunately) the best option to display the data here\n",
    "#values\n",
    "\n",
    "pie_responses = final_answers_df.sort_values('Total')\n",
    "\n",
    "#assign values\n",
    "pie_speaker = pie_responses['Do You Own a Smart Speaker?']\n",
    "pie_chart_two = pie_responses['Total']\n",
    "plt.figure(figsize=[10,6])\n",
    "colors = ['green' , 'red']\n",
    "explode = (0.1,0)\n",
    "\n",
    "# set up the pie chart\n",
    "\n",
    "plt.pie(pie_chart_two, labels = pie_speaker, autopct = '%1.1f%%', colors = colors, shadow = True, explode = explode)\n",
    "\n",
    "#give title\n",
    "plt.title('Percentage of Households That Own a Smart Speaker (June 2018)')\n",
    "\n",
    "# display pie chart\n",
    "plt.show()\n",
    "\n",
    "\n",
    "\n",
    "\n",
    "\n",
    "\n",
    "\n",
    "\n",
    "\n",
    "\n",
    "\n"
   ]
  },
  {
   "cell_type": "code",
   "execution_count": 40,
   "metadata": {},
   "outputs": [
    {
     "data": {
      "text/plain": [
       "<pandas.core.groupby.generic.DataFrameGroupBy object at 0x11b84c350>"
      ]
     },
     "execution_count": 40,
     "metadata": {},
     "output_type": "execute_result"
    }
   ],
   "source": [
    "#how do people shop?\n",
    "#group online vs smart speaker vs other methods\n",
    "\n",
    "voice_df.groupby('shopping_method')\n",
    "\n"
   ]
  },
  {
   "cell_type": "code",
   "execution_count": 46,
   "metadata": {},
   "outputs": [
    {
     "data": {
      "text/html": [
       "<div>\n",
       "<style scoped>\n",
       "    .dataframe tbody tr th:only-of-type {\n",
       "        vertical-align: middle;\n",
       "    }\n",
       "\n",
       "    .dataframe tbody tr th {\n",
       "        vertical-align: top;\n",
       "    }\n",
       "\n",
       "    .dataframe thead th {\n",
       "        text-align: right;\n",
       "    }\n",
       "</style>\n",
       "<table border=\"1\" class=\"dataframe\">\n",
       "  <thead>\n",
       "    <tr style=\"text-align: right;\">\n",
       "      <th></th>\n",
       "      <th>Shopping Method?</th>\n",
       "    </tr>\n",
       "  </thead>\n",
       "  <tbody>\n",
       "    <tr>\n",
       "      <th>6</th>\n",
       "      <td>physical</td>\n",
       "    </tr>\n",
       "    <tr>\n",
       "      <th>11</th>\n",
       "      <td>mobile_device</td>\n",
       "    </tr>\n",
       "    <tr>\n",
       "      <th>15</th>\n",
       "      <td>website</td>\n",
       "    </tr>\n",
       "    <tr>\n",
       "      <th>16</th>\n",
       "      <td>website</td>\n",
       "    </tr>\n",
       "    <tr>\n",
       "      <th>19</th>\n",
       "      <td>physical</td>\n",
       "    </tr>\n",
       "    <tr>\n",
       "      <th>...</th>\n",
       "      <td>...</td>\n",
       "    </tr>\n",
       "    <tr>\n",
       "      <th>1178</th>\n",
       "      <td>mobile_device</td>\n",
       "    </tr>\n",
       "    <tr>\n",
       "      <th>1179</th>\n",
       "      <td>physical</td>\n",
       "    </tr>\n",
       "    <tr>\n",
       "      <th>1185</th>\n",
       "      <td>physical</td>\n",
       "    </tr>\n",
       "    <tr>\n",
       "      <th>1191</th>\n",
       "      <td>physical</td>\n",
       "    </tr>\n",
       "    <tr>\n",
       "      <th>1202</th>\n",
       "      <td>website</td>\n",
       "    </tr>\n",
       "  </tbody>\n",
       "</table>\n",
       "<p>260 rows × 1 columns</p>\n",
       "</div>"
      ],
      "text/plain": [
       "     Shopping Method?\n",
       "6            physical\n",
       "11      mobile_device\n",
       "15            website\n",
       "16            website\n",
       "19           physical\n",
       "...               ...\n",
       "1178    mobile_device\n",
       "1179         physical\n",
       "1185         physical\n",
       "1191         physical\n",
       "1202          website\n",
       "\n",
       "[260 rows x 1 columns]"
      ]
     },
     "execution_count": 46,
     "metadata": {},
     "output_type": "execute_result"
    }
   ],
   "source": [
    "method_df = pd.DataFrame({'Shopping Method?': voice_df['shopping_method']})\n",
    "method_df"
   ]
  },
  {
   "cell_type": "code",
   "execution_count": 48,
   "metadata": {},
   "outputs": [
    {
     "data": {
      "text/plain": [
       "260"
      ]
     },
     "execution_count": 48,
     "metadata": {},
     "output_type": "execute_result"
    }
   ],
   "source": [
    "#find the amount that were surveyed\n",
    "total_responses = len(method_df['Shopping Method?'])\n",
    "total_responses"
   ]
  },
  {
   "cell_type": "code",
   "execution_count": 51,
   "metadata": {},
   "outputs": [
    {
     "data": {
      "text/plain": [
       "<pandas.core.groupby.generic.DataFrameGroupBy object at 0x11be54310>"
      ]
     },
     "execution_count": 51,
     "metadata": {},
     "output_type": "execute_result"
    }
   ],
   "source": [
    "prep = method_df.groupby(['Shopping Method?'])\n",
    "prep"
   ]
  },
  {
   "cell_type": "code",
   "execution_count": 56,
   "metadata": {},
   "outputs": [
    {
     "data": {
      "text/plain": [
       "Shopping Method?\n",
       "mobile_device            mobile_device\n",
       "none_of_the_above    none_of_the_above\n",
       "physical                      physical\n",
       "smart_speaker            smart_speaker\n",
       "website                        website\n",
       "Name: Shopping Method?, dtype: object"
      ]
     },
     "execution_count": 56,
     "metadata": {},
     "output_type": "execute_result"
    }
   ],
   "source": [
    "prep_df = prep['Shopping Method?'].unique().str[0]\n",
    "prep_df"
   ]
  },
  {
   "cell_type": "code",
   "execution_count": 58,
   "metadata": {},
   "outputs": [
    {
     "data": {
      "text/plain": [
       "Shopping Method?\n",
       "mobile_device         23\n",
       "none_of_the_above     11\n",
       "physical             148\n",
       "smart_speaker          7\n",
       "website               71\n",
       "Name: Shopping Method?, dtype: int64"
      ]
     },
     "execution_count": 58,
     "metadata": {},
     "output_type": "execute_result"
    }
   ],
   "source": [
    "pie_df = prep['Shopping Method?'].count()\n",
    "pie_df"
   ]
  },
  {
   "cell_type": "code",
   "execution_count": 60,
   "metadata": {},
   "outputs": [
    {
     "data": {
      "text/html": [
       "<style  type=\"text/css\" >\n",
       "</style><table id=\"T_f31d79e4_844d_11ea_868b_acde48001122\" ><thead>    <tr>        <th class=\"col_heading level0 col0\" >Shopping Method</th>        <th class=\"col_heading level0 col1\" >Total</th>    </tr></thead><tbody>\n",
       "                <tr>\n",
       "                                <td id=\"T_f31d79e4_844d_11ea_868b_acde48001122row0_col0\" class=\"data row0 col0\" >mobile_device</td>\n",
       "                        <td id=\"T_f31d79e4_844d_11ea_868b_acde48001122row0_col1\" class=\"data row0 col1\" >23</td>\n",
       "            </tr>\n",
       "            <tr>\n",
       "                                <td id=\"T_f31d79e4_844d_11ea_868b_acde48001122row1_col0\" class=\"data row1 col0\" >none_of_the_above</td>\n",
       "                        <td id=\"T_f31d79e4_844d_11ea_868b_acde48001122row1_col1\" class=\"data row1 col1\" >11</td>\n",
       "            </tr>\n",
       "            <tr>\n",
       "                                <td id=\"T_f31d79e4_844d_11ea_868b_acde48001122row2_col0\" class=\"data row2 col0\" >physical</td>\n",
       "                        <td id=\"T_f31d79e4_844d_11ea_868b_acde48001122row2_col1\" class=\"data row2 col1\" >148</td>\n",
       "            </tr>\n",
       "            <tr>\n",
       "                                <td id=\"T_f31d79e4_844d_11ea_868b_acde48001122row3_col0\" class=\"data row3 col0\" >smart_speaker</td>\n",
       "                        <td id=\"T_f31d79e4_844d_11ea_868b_acde48001122row3_col1\" class=\"data row3 col1\" >7</td>\n",
       "            </tr>\n",
       "            <tr>\n",
       "                                <td id=\"T_f31d79e4_844d_11ea_868b_acde48001122row4_col0\" class=\"data row4 col0\" >website</td>\n",
       "                        <td id=\"T_f31d79e4_844d_11ea_868b_acde48001122row4_col1\" class=\"data row4 col1\" >71</td>\n",
       "            </tr>\n",
       "    </tbody></table>"
      ],
      "text/plain": [
       "<pandas.io.formats.style.Styler at 0x11de12a50>"
      ]
     },
     "execution_count": 60,
     "metadata": {},
     "output_type": "execute_result"
    }
   ],
   "source": [
    "count_df = pd.DataFrame({'Shopping Method': prep_df,\n",
    "                         'Total': pie_df})\n",
    "count_df.style.hide_index()"
   ]
  },
  {
   "cell_type": "code",
   "execution_count": 76,
   "metadata": {},
   "outputs": [
    {
     "data": {
      "image/png": "[encoded data removed]",
      "text/plain": [
       "<Figure size 720x432 with 1 Axes>"
      ]
     },
     "metadata": {},
     "output_type": "display_data"
    }
   ],
   "source": [
    "#sort, really only one value (column) here\n",
    "pie_response = count_df.sort_values('Total')\n",
    "\n",
    "#assign the variables\n",
    "\n",
    "pie_var = pie_response['Shopping Method']\n",
    "pie_chart = pie_response['Total']\n",
    "plt.figure(figsize=[10,6])\n",
    "explode = (0.1,0.2,0.1,0,0)\n",
    "colors = ['red', 'cyan', 'green', 'purple', 'yellow']\n",
    "\n",
    "#set up the pie graph\n",
    "\n",
    "plt.pie(pie_chart, labels = pie_var, autopct = '%1.1f%%', colors = colors, shadow = True, startangle = 220, explode = explode)\n",
    "\n",
    "#title\n",
    "\n",
    "plt.title(\"Percentage of Shopping Methods (June 2018)\")\n",
    "\n",
    "# and display the pie chart\n",
    "plt.show()"
   ]
  },
  {
   "cell_type": "code",
   "execution_count": null,
   "metadata": {},
   "outputs": [],
   "source": []
  },
  {
   "cell_type": "code",
   "execution_count": null,
   "metadata": {},
   "outputs": [],
   "source": []
  },
  {
   "cell_type": "code",
   "execution_count": null,
   "metadata": {},
   "outputs": [],
   "source": []
  }
 ],
 "metadata": {
  "kernelspec": {
   "display_name": "Python 3",
   "language": "python",
   "name": "python3"
  },
  "language_info": {
   "codemirror_mode": {
    "name": "ipython",
    "version": 3
   },
   "file_extension": ".py",
   "mimetype": "text/x-python",
   "name": "python",
   "nbconvert_exporter": "python",
   "pygments_lexer": "ipython3",
   "version": "3.7.6"
  }
 },
 "nbformat": 4,
 "nbformat_minor": 4
}
